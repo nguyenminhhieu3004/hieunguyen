{
  "nbformat": 4,
  "nbformat_minor": 0,
  "metadata": {
    "colab": {
      "name": "Bai_thuc_hanh_03.ipynb",
      "provenance": []
    },
    "kernelspec": {
      "name": "python3",
      "display_name": "Python 3"
    }
  },
  "cells": [
    {
      "cell_type": "code",
      "metadata": {
        "colab": {
          "base_uri": "https://localhost:8080/"
        },
        "id": "IP0MXu18V3gr",
        "outputId": "5d4fce88-a552-4a5b-cc95-a5c440de1244"
      },
      "source": [
        " #- Tạo ma trận:\r\n",
        "import numpy as np\r\n",
        "a = np.array(([(2,3,4), (4,6,8)],\r\n",
        "              [(2,6,2), (3,6,2)],\r\n",
        "              [(4,6,2), (4,7,0,)]), dtype = int)\r\n",
        "print(\"Ma trận A= \",a)\r\n",
        "  \r\n",
        "  \r\n",
        "  #- Tổng ,Hiệu 2 ma trận\r\n",
        "import numpy as np\r\n",
        "a = np.array(([(2,3,6), (2,8,4)]), dtype = int)\r\n",
        "b = np.array(([(2,9,1), (7,5,8)]), dtype = int)\r\n",
        "print(\"ma trận A+B= \", a+b)\r\n",
        "print(\"ma trận A-B= \", a-b)\r\n",
        "\r\n",
        "\r\n",
        "  #- tính tích 2 ma trận:\r\n",
        "import numpy as np\r\n",
        "C = \"Tich 2 Ma Tran\"\r\n",
        "print(C)\r\n",
        "a = np.array(([((1,2),(3,4)), ((5,3),(7,4))]), dtype = int)\r\n",
        "b = np.array(([(5,7,7), (6,7,2)]), dtype = int)\r\n",
        "print(\"ma trận C*D= \", a @ b)\r\n",
        "\r\n",
        "\r\n",
        "   #- tính thương 2 ma trận:\r\n",
        "import numpy as np\r\n",
        "D = \"Thuong 2 Ma Tran\"\r\n",
        "print(D)\r\n",
        "a = np.array(([(5,10,6), (2,8,7)]), dtype = int)\r\n",
        "b = np.array(([(2,6,1), (9,10,8)]), dtype = int)\r\n",
        "print(\"ma trận A/B= \", a/b)\r\n",
        "\r\n",
        "\r\n",
        "  \r\n"
      ],
      "execution_count": 7,
      "outputs": [
        {
          "output_type": "stream",
          "text": [
            "Ma trận A=  [[[2 3 4]\n",
            "  [4 6 8]]\n",
            "\n",
            " [[2 6 2]\n",
            "  [3 6 2]]\n",
            "\n",
            " [[4 6 2]\n",
            "  [4 7 0]]]\n",
            "ma trận A+B=  [[ 4 12  7]\n",
            " [ 9 13 12]]\n",
            "ma trận A-B=  [[ 0 -6  5]\n",
            " [-5  3 -4]]\n",
            "Tich 2 Ma Tran\n",
            "ma trận C*D=  [[[17 21 11]\n",
            "  [39 49 29]]\n",
            "\n",
            " [[43 56 41]\n",
            "  [59 77 57]]]\n",
            "Thuong 2 Ma Tran\n",
            "ma trận A/B=  [[2.5        1.66666667 6.        ]\n",
            " [0.22222222 0.8        0.875     ]]\n"
          ],
          "name": "stdout"
        }
      ]
    }
  ]
}