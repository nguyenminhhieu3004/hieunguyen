{
  "nbformat": 4,
  "nbformat_minor": 0,
  "metadata": {
    "colab": {
      "name": "baitaplaptrinh.ipynb",
      "provenance": [],
      "authorship_tag": "ABX9TyMWM/mg8LIWrINnIYA6lNGt",
      "include_colab_link": true
    },
    "kernelspec": {
      "name": "python3",
      "display_name": "Python 3"
    }
  },
  "cells": [
    {
      "cell_type": "markdown",
      "metadata": {
        "id": "view-in-github",
        "colab_type": "text"
      },
      "source": [
        "<a href=\"https://colab.research.google.com/github/nguyenminhhieu3004/hieunguyen/blob/main/baitaplaptrinh.ipynb\" target=\"_parent\"><img src=\"https://colab.research.google.com/assets/colab-badge.svg\" alt=\"Open In Colab\"/></a>"
      ]
    },
    {
      "cell_type": "markdown",
      "metadata": {
        "id": "Kil89zLCNCWz"
      },
      "source": [
        "Bài 1: Lập trình nhập vào từ bàn phím 2 số nguyên và tính:"
      ]
    },
    {
      "cell_type": "code",
      "metadata": {
        "id": "JS1UNh9lNeEh",
        "outputId": "fc33b2ba-2a65-4d29-bd2a-9a9202ae84eb",
        "colab": {
          "base_uri": "https://localhost:8080/"
        }
      },
      "source": [
        "a=int( input(\" a= \"))\n",
        "b=int( input(\" b= \"))\n",
        "c=a+b\n",
        "print(\"a+b\",c)\n",
        "d=a*b\n",
        "print(\"a*b\",d)\n",
        "e=a-b\n",
        "print(\"a-b\",e)\n",
        "f=a%b\n",
        "print(\"a%b\",f)\n",
        "g=a//b\n",
        "print(\"a//b\",g)\n"
      ],
      "execution_count": null,
      "outputs": [
        {
          "output_type": "stream",
          "text": [
            " a= 4\n",
            " b= 5\n",
            "a+b 9\n",
            "a*b 20\n",
            "a-b -1\n",
            "a%b 4\n",
            "a//b 0\n"
          ],
          "name": "stdout"
        }
      ]
    },
    {
      "cell_type": "markdown",
      "metadata": {
        "id": "A-aC-lx_TZbO"
      },
      "source": [
        "Bài 2: Lập trình nhập vào từ bàn phím 2 số thực và tính:"
      ]
    },
    {
      "cell_type": "code",
      "metadata": {
        "id": "IfnWnfDnT26h",
        "outputId": "bc37366f-7d46-4413-9d0d-fd45eda24b63",
        "colab": {
          "base_uri": "https://localhost:8080/"
        }
      },
      "source": [
        "a=float(input(\"a= \"))\n",
        "b=float(input(\"b= \"))\n",
        "c=a+b\n",
        "print(\"a+b\",c)\n",
        "d=a*b\n",
        "print(\"a*b\",d)\n",
        "e=a-b\n",
        "print(\"a-b\",e)\n",
        "f=a/b\n",
        "print(\"a/b\",f)"
      ],
      "execution_count": null,
      "outputs": [
        {
          "output_type": "stream",
          "text": [
            "a= 4\n",
            "b= 6\n",
            "a+b 10.0\n",
            "a*b 24.0\n",
            "a-b -2.0\n",
            "a/b 0.6666666666666666\n"
          ],
          "name": "stdout"
        }
      ]
    },
    {
      "cell_type": "markdown",
      "metadata": {
        "id": "BghGF36gUSDI"
      },
      "source": [
        "Bài 3: (Sử dụng các hàm toán học) Nhập một số từ bàn phím và tính:"
      ]
    },
    {
      "cell_type": "code",
      "metadata": {
        "id": "bx0X9K54d0qr",
        "outputId": "b18f287b-f926-4d36-d48d-58a7af282128",
        "colab": {
          "base_uri": "https://localhost:8080/"
        }
      },
      "source": [
        "a=-7\n",
        "print(\"gia tri tuyet doi cua \",a,\"la \", abs(a))\n",
        "print(\"lay phan nguyen cua \",a, \"la \", int(a))\n",
        "print(\"chuyen doi thanh so thuc\",a,\"la \", float(a))\n",
        "b=2\n",
        "print(\"luy thua a mu b\",\"la \", pow(a,b))\n",
        "import math\n",
        "print(\"can bat 2 cua a la: \",math.sqrt(abs(a)))"
      ],
      "execution_count": 26,
      "outputs": [
        {
          "output_type": "stream",
          "text": [
            "gia tri tuyet doi cua  -7 la  7\n",
            "lay phan nguyen cua  -7 la  -7\n",
            "chuyen doi thanh so thuc -7 la  -7.0\n",
            "luy thua a mu b la  49\n",
            "can bat 2 cua a la:  2.6457513110645907\n"
          ],
          "name": "stdout"
        }
      ]
    },
    {
      "cell_type": "markdown",
      "metadata": {
        "id": "LSiqgl3dYIPq"
      },
      "source": [
        "Bài 4: Nhập 2 số từ bàn phím và thực hiện các phép so sánh sau giữa 2 số:"
      ]
    },
    {
      "cell_type": "code",
      "metadata": {
        "id": "htRXHINbYOeX",
        "outputId": "94292617-3b04-491d-8390-3cd4dfd490ad",
        "colab": {
          "base_uri": "https://localhost:8080/"
        }
      },
      "source": [
        "print(3 >= 6)\n",
        "print(3 <= 6)\n",
        "print(3 > 6)\n",
        "print(3 < 6)\n",
        "print(3 != 6)\n",
        "a= True\n",
        "print(a)"
      ],
      "execution_count": null,
      "outputs": [
        {
          "output_type": "stream",
          "text": [
            "False\n",
            "True\n",
            "False\n",
            "True\n",
            "True\n",
            "True\n"
          ],
          "name": "stdout"
        }
      ]
    },
    {
      "cell_type": "markdown",
      "metadata": {
        "id": "t0iA7pieYhuz"
      },
      "source": [
        "Bài 5: Nhập 1 chuỗi ký tự từ bàn phím"
      ]
    },
    {
      "cell_type": "code",
      "metadata": {
        "id": "odeM0In2Zqh0",
        "outputId": "ba14e794-3331-4264-b695-b0e72752fc94",
        "colab": {
          "base_uri": "https://localhost:8080/"
        }
      },
      "source": [
        "str1= \" Hom qua em bi om \"\n",
        "print(str1.upper())\n",
        "str= \" Hom qua em bi om \"\n",
        "print(str.lower())"
      ],
      "execution_count": null,
      "outputs": [
        {
          "output_type": "stream",
          "text": [
            " HOM QUA EM BI OM \n",
            " hom qua em bi om \n"
          ],
          "name": "stdout"
        }
      ]
    },
    {
      "cell_type": "markdown",
      "metadata": {
        "id": "d4LozgbXaBrI"
      },
      "source": [
        "Bài 6: Xuất ra màn hình 1 chuỗi ký từ nằm trên nhiều hàng"
      ]
    },
    {
      "cell_type": "code",
      "metadata": {
        "id": "yZGnTGUBaC6R",
        "outputId": "cd35dee7-6663-4c8d-84a7-aeba40366a5e",
        "colab": {
          "base_uri": "https://localhost:8080/"
        }
      },
      "source": [
        "tho=\"\"\"Tôi viết bài thơ xuân\n",
        "Nghìn chín trăm sáu mốt\n",
        "Cành táo đầu hè rung rinh quả ngọt\n",
        "Nắng soi sương giọt long lanh...\n",
        "Rét nhiều nên ấm nắng hanh\n",
        "Đắng cay lắm mới ngọt lành đó chăng?\n",
        "Giã từ năm cũ bâng khuâng\n",
        "Đã nghe xuân mới lâng lâng lạ thường!...\"\"\"\n",
        "print(tho)"
      ],
      "execution_count": null,
      "outputs": [
        {
          "output_type": "stream",
          "text": [
            "Tôi viết bài thơ xuân\n",
            "Nghìn chín trăm sáu mốt\n",
            "Cành táo đầu hè rung rinh quả ngọt\n",
            "Nắng soi sương giọt long lanh...\n",
            "Rét nhiều nên ấm nắng hanh\n",
            "Đắng cay lắm mới ngọt lành đó chăng?\n",
            "Giã từ năm cũ bâng khuâng\n",
            "Đã nghe xuân mới lâng lâng lạ thường!...\n"
          ],
          "name": "stdout"
        }
      ]
    }
  ]
}