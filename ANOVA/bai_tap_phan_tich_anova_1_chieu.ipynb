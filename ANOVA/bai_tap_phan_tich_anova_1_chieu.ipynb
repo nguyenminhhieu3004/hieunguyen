{
  "nbformat": 4,
  "nbformat_minor": 0,
  "metadata": {
    "kernelspec": {
      "display_name": "Python 3",
      "language": "python",
      "name": "python3"
    },
    "language_info": {
      "codemirror_mode": {
        "name": "ipython",
        "version": 3
      },
      "file_extension": ".py",
      "mimetype": "text/x-python",
      "name": "python",
      "nbconvert_exporter": "python",
      "pygments_lexer": "ipython3",
      "version": "3.7.3"
    },
    "colab": {
      "name": "bai-tap-phan-tich-anova-1-chieu.ipynb",
      "provenance": []
    }
  },
  "cells": [
    {
      "cell_type": "markdown",
      "metadata": {
        "id": "dZIR94EDapJy"
      },
      "source": [
        "Hãy sử dụng các tập dữ liệu sau và tiến hành phân tích ANOVA 1 chiều\n",
        "\n",
        "- [Excavation Depth and Archaeology](https://college.cengage.com/mathematics/brase/understandable_statistics/7e/students/datasets/owan/frames/owan01.html)\n",
        "- [Apple Orchard Experiment](https://college.cengage.com/mathematics/brase/understandable_statistics/7e/students/datasets/owan/frames/owan02.html)\n",
        "- [Red Dye Number 40](https://college.cengage.com/mathematics/brase/understandable_statistics/7e/students/datasets/owan/frames/owan03.html)\n",
        "- [Business Startup Costs](https://college.cengage.com/mathematics/brase/understandable_statistics/7e/students/datasets/owan/frames/owan04.html)\n",
        "- [Weights of Football Players](https://college.cengage.com/mathematics/brase/understandable_statistics/7e/students/datasets/owan/frames/owan05.html)"
      ]
    },
    {
      "cell_type": "code",
      "metadata": {
        "id": "eM5iZDoVapJ6"
      },
      "source": [
        "import pandas as pd\n",
        "from scipy import stats"
      ],
      "execution_count": 5,
      "outputs": []
    },
    {
      "cell_type": "code",
      "metadata": {
        "id": "nrKa__eWapJ7"
      },
      "source": [
        "# class phân tích avova\n",
        "# đầu vào là một data frame\n",
        "class projectAnova:\n",
        "    def __init__(self,data):\n",
        "        self.data = data\n",
        "        self.samples = []\n",
        "        for i in data.columns:\n",
        "            self.samples.append(data[i].dropna())\n",
        "    #kiem tra su phan phoi chuan\n",
        "    def shapiro_test(self):\n",
        "        for (stt, sample) in enumerate(self.samples):\n",
        "            pv_s = stats.shapiro(sample)[1]\n",
        "            if pv_s > 0.05:\n",
        "                print(f'Mẫu {stt} tuân theo phân phối chuẩn')\n",
        "            else:\n",
        "                print(f'Mẫu {stt} không tuân theo phân phối chuẩn')\n",
        "    #kiem tra su khac biet cua phuong sai\n",
        "    def levene_test(self):\n",
        "        pv_l = stats.levene(*self.samples)[1]\n",
        "        if pv_l > 0.05:\n",
        "            print('Phương sai bằng nhau')\n",
        "        else:\n",
        "            print('Có ít nhất một cặp Phương sai không bằng nhau')\n",
        "    #anova test\n",
        "    def anova_test(self):\n",
        "        pv_a = stats.f_oneway(*self.samples)[1]\n",
        "        if pv_a > 0.05:\n",
        "            print('các giá trị trung bình bằng nhau')\n",
        "        else:\n",
        "            print('Có tối thiểu một cặp giá trị trung bình có giá trị khác nhau')"
      ],
      "execution_count": 6,
      "outputs": []
    },
    {
      "cell_type": "code",
      "metadata": {
        "id": "dQGiHhliax4-",
        "outputId": "a9cd79eb-cc54-4430-d090-1d5cc5df5206",
        "colab": {
          "base_uri": "https://localhost:8080/"
        }
      },
      "source": [
        "df1 = pd.read_excel('owan01.xls')"
      ],
      "execution_count": 7,
      "outputs": [
        {
          "output_type": "stream",
          "text": [
            "*** No CODEPAGE record, no encoding_override: will use 'ascii'\n"
          ],
          "name": "stdout"
        }
      ]
    },
    {
      "cell_type": "code",
      "metadata": {
        "id": "2L7hg79na2Pb",
        "outputId": "6b0a2741-d59f-46fb-b739-2e94abed4949",
        "colab": {
          "base_uri": "https://localhost:8080/"
        }
      },
      "source": [
        "df2 = pd.read_excel('owan02.xls')"
      ],
      "execution_count": 8,
      "outputs": [
        {
          "output_type": "stream",
          "text": [
            "*** No CODEPAGE record, no encoding_override: will use 'ascii'\n"
          ],
          "name": "stdout"
        }
      ]
    },
    {
      "cell_type": "code",
      "metadata": {
        "id": "yNm5T0H9a4Ji"
      },
      "source": [
        "a1 = projectAnova(df1)"
      ],
      "execution_count": 9,
      "outputs": []
    },
    {
      "cell_type": "code",
      "metadata": {
        "id": "z69BZeNEa4g-",
        "outputId": "0e2f817c-6fd3-4909-c7c6-80ba0864e478",
        "colab": {
          "base_uri": "https://localhost:8080/"
        }
      },
      "source": [
        "a1.shapiro_test()\n",
        "a1.levene_test()\n",
        "a1.anova_test()"
      ],
      "execution_count": 10,
      "outputs": [
        {
          "output_type": "stream",
          "text": [
            "Mẫu 0 tuân theo phân phối chuẩn\n",
            "Mẫu 1 tuân theo phân phối chuẩn\n",
            "Mẫu 2 tuân theo phân phối chuẩn\n",
            "Mẫu 3 tuân theo phân phối chuẩn\n",
            "Phương sai bằng nhau\n",
            "Có tối thiểu một cặp giá trị trung bình có giá trị khác nhau\n"
          ],
          "name": "stdout"
        }
      ]
    },
    {
      "cell_type": "code",
      "metadata": {
        "id": "r3d7p9Wha9Hb"
      },
      "source": [
        "a2 = projectAnova(df2)"
      ],
      "execution_count": 12,
      "outputs": []
    },
    {
      "cell_type": "code",
      "metadata": {
        "id": "qc9YPdZ3a_H3",
        "outputId": "efba0e53-03cd-43c1-fb3b-821fcc98b619",
        "colab": {
          "base_uri": "https://localhost:8080/"
        }
      },
      "source": [
        "a3 = projectAnova(pd.read_excel('owan03.xls'))"
      ],
      "execution_count": 14,
      "outputs": [
        {
          "output_type": "stream",
          "text": [
            "*** No CODEPAGE record, no encoding_override: will use 'ascii'\n"
          ],
          "name": "stdout"
        }
      ]
    },
    {
      "cell_type": "code",
      "metadata": {
        "id": "bKfVGQS0bBC1",
        "outputId": "6ac43242-1a7e-48ea-cac7-3b887dea0b03",
        "colab": {
          "base_uri": "https://localhost:8080/"
        }
      },
      "source": [
        "a3.shapiro_test()\n",
        "a3.levene_test()# các cặp phương sai không bằng nhau nên sẽ không thỏa các điều kiện để tiến hành anova test\n",
        "a3.anova_test()"
      ],
      "execution_count": 16,
      "outputs": [
        {
          "output_type": "stream",
          "text": [
            "Mẫu 0 tuân theo phân phối chuẩn\n",
            "Mẫu 1 tuân theo phân phối chuẩn\n",
            "Mẫu 2 tuân theo phân phối chuẩn\n",
            "Mẫu 3 tuân theo phân phối chuẩn\n",
            "Có ít nhất một cặp Phương sai không bằng nhau\n",
            "Có tối thiểu một cặp giá trị trung bình có giá trị khác nhau\n"
          ],
          "name": "stdout"
        }
      ]
    },
    {
      "cell_type": "code",
      "metadata": {
        "id": "dtz7_u6VbDhO",
        "outputId": "bfdb92d3-4eaf-45f7-81a0-cb0b3a81ca25",
        "colab": {
          "base_uri": "https://localhost:8080/"
        }
      },
      "source": [
        "a4 = projectAnova(pd.read_excel('owan04.xls'))"
      ],
      "execution_count": 15,
      "outputs": [
        {
          "output_type": "stream",
          "text": [
            "*** No CODEPAGE record, no encoding_override: will use 'ascii'\n"
          ],
          "name": "stdout"
        }
      ]
    },
    {
      "cell_type": "code",
      "metadata": {
        "id": "4TCtONK1bEsE",
        "outputId": "1e80cf6c-2451-4082-99f9-178a014679d3",
        "colab": {
          "base_uri": "https://localhost:8080/"
        }
      },
      "source": [
        "a4.shapiro_test()\n",
        "a4.levene_test()\n",
        "a4.anova_test"
      ],
      "execution_count": 17,
      "outputs": [
        {
          "output_type": "stream",
          "text": [
            "Mẫu 0 tuân theo phân phối chuẩn\n",
            "Mẫu 1 tuân theo phân phối chuẩn\n",
            "Mẫu 2 tuân theo phân phối chuẩn\n",
            "Mẫu 3 tuân theo phân phối chuẩn\n",
            "Mẫu 4 tuân theo phân phối chuẩn\n",
            "Phương sai bằng nhau\n"
          ],
          "name": "stdout"
        },
        {
          "output_type": "execute_result",
          "data": {
            "text/plain": [
              "<bound method projectAnova.anova_test of <__main__.projectAnova object at 0x7f0781e431d0>>"
            ]
          },
          "metadata": {
            "tags": []
          },
          "execution_count": 17
        }
      ]
    },
    {
      "cell_type": "code",
      "metadata": {
        "id": "_CnLlqR4bNDX",
        "outputId": "876ae230-40ec-4f5c-c085-4fa7092d88eb",
        "colab": {
          "base_uri": "https://localhost:8080/"
        }
      },
      "source": [
        "a5 = projectAnova(pd.read_excel('owan05.xls'))"
      ],
      "execution_count": 18,
      "outputs": [
        {
          "output_type": "stream",
          "text": [
            "*** No CODEPAGE record, no encoding_override: will use 'ascii'\n"
          ],
          "name": "stdout"
        }
      ]
    },
    {
      "cell_type": "code",
      "metadata": {
        "id": "34NKExP9bOXg",
        "outputId": "d6e0df48-cd8c-4cf6-fba1-e3b47dafb974",
        "colab": {
          "base_uri": "https://localhost:8080/"
        }
      },
      "source": [
        "a5.shapiro_test() # vì có một mẫu không tuân theo phân phối chuẩn nên khó đi đến kết luận của Anova test\n",
        "a5.levene_test()\n",
        "a5.anova_test()"
      ],
      "execution_count": 19,
      "outputs": [
        {
          "output_type": "stream",
          "text": [
            "Mẫu 0 không tuân theo phân phối chuẩn\n",
            "Mẫu 1 tuân theo phân phối chuẩn\n",
            "Mẫu 2 tuân theo phân phối chuẩn\n",
            "Mẫu 3 tuân theo phân phối chuẩn\n",
            "Mẫu 4 tuân theo phân phối chuẩn\n",
            "Phương sai bằng nhau\n",
            "các giá trị trung bình bằng nhau\n"
          ],
          "name": "stdout"
        }
      ]
    },
    {
      "cell_type": "code",
      "metadata": {
        "id": "7cY35VhzbR0t",
        "outputId": "30c4954d-7f04-497d-b800-a9396b875213",
        "colab": {
          "base_uri": "https://localhost:8080/"
        }
      },
      "source": [
        "df1['X4'].dropna() # loại bỏ Nan"
      ],
      "execution_count": 20,
      "outputs": [
        {
          "output_type": "execute_result",
          "data": {
            "text/plain": [
              "0    96.0\n",
              "1    58.0\n",
              "2    95.0\n",
              "3    90.0\n",
              "4    65.0\n",
              "5    80.0\n",
              "6    85.0\n",
              "7    95.0\n",
              "8    82.0\n",
              "Name: X4, dtype: float64"
            ]
          },
          "metadata": {
            "tags": []
          },
          "execution_count": 20
        }
      ]
    },
    {
      "cell_type": "code",
      "metadata": {
        "id": "VLHjcOSUbTtQ",
        "outputId": "56416312-d138-4352-aa95-f8177636c31d",
        "colab": {
          "base_uri": "https://localhost:8080/"
        }
      },
      "source": [
        "\n",
        "df1.columns"
      ],
      "execution_count": 21,
      "outputs": [
        {
          "output_type": "execute_result",
          "data": {
            "text/plain": [
              "Index(['X1', 'X2', 'X3', 'X4'], dtype='object')"
            ]
          },
          "metadata": {
            "tags": []
          },
          "execution_count": 21
        }
      ]
    },
    {
      "cell_type": "code",
      "metadata": {
        "id": "1d65tJ1TbVei",
        "outputId": "c51c0d7e-e141-4d90-8556-c2297a153149",
        "colab": {
          "base_uri": "https://localhost:8080/"
        }
      },
      "source": [
        "for i in df1.columns:\n",
        "    pvalue_s = stats.shapiro(df1[i].dropna())[1]\n",
        "    if pvalue_s > 0.05:\n",
        "        print('Mẫu tuân theo phân phối chuẩn')\n",
        "    else:\n",
        "        print('Mẫu không tuân theo phân phối chuẩn')"
      ],
      "execution_count": 22,
      "outputs": [
        {
          "output_type": "stream",
          "text": [
            "Mẫu tuân theo phân phối chuẩn\n",
            "Mẫu tuân theo phân phối chuẩn\n",
            "Mẫu tuân theo phân phối chuẩn\n",
            "Mẫu tuân theo phân phối chuẩn\n"
          ],
          "name": "stdout"
        }
      ]
    },
    {
      "cell_type": "code",
      "metadata": {
        "id": "JMRKJsLMbXCp",
        "outputId": "d9fd65c1-23f9-4824-a4ea-27c167bf4d3a",
        "colab": {
          "base_uri": "https://localhost:8080/"
        }
      },
      "source": [
        "\n",
        "pvalue_s"
      ],
      "execution_count": 23,
      "outputs": [
        {
          "output_type": "execute_result",
          "data": {
            "text/plain": [
              "0.13579683005809784"
            ]
          },
          "metadata": {
            "tags": []
          },
          "execution_count": 23
        }
      ]
    },
    {
      "cell_type": "code",
      "metadata": {
        "id": "YPncpryBbYnq"
      },
      "source": [
        "\n",
        "args = (df1['X1'].dropna(), df1['X2'].dropna(), df1['X3'].dropna(),df1['X4'].dropna())"
      ],
      "execution_count": 27,
      "outputs": []
    },
    {
      "cell_type": "code",
      "metadata": {
        "id": "MTSLrFoubaMw",
        "outputId": "f69673dd-d4f7-40d2-fed3-55ce91fb1f96",
        "colab": {
          "base_uri": "https://localhost:8080/"
        }
      },
      "source": [
        "pl = stats.levene(*args)[1]\n",
        "if pl > 0.05:\n",
        "    print('Phương sai bằng nhau')\n",
        "else:\n",
        "    print('Có ít nhất một cặp Phương sai không bằng nhau')"
      ],
      "execution_count": 28,
      "outputs": [
        {
          "output_type": "stream",
          "text": [
            "Phương sai bằng nhau\n"
          ],
          "name": "stdout"
        }
      ]
    },
    {
      "cell_type": "code",
      "metadata": {
        "id": "_XTrCJEzbb0q",
        "outputId": "30fa0639-174f-4616-d3b2-709e4f8baee3",
        "colab": {
          "base_uri": "https://localhost:8080/"
        }
      },
      "source": [
        "pv_a = stats.f_oneway(*args)[1]\n",
        "if pv_a > 0.05:\n",
        "    print('các giá trị trung bình bằng nhau')\n",
        "else:\n",
        "    print('Có tối thiểu một cặp giá trị trung bình có giá trị khác nhau')"
      ],
      "execution_count": 29,
      "outputs": [
        {
          "output_type": "stream",
          "text": [
            "Có tối thiểu một cặp giá trị trung bình có giá trị khác nhau\n"
          ],
          "name": "stdout"
        }
      ]
    }
  ]
}