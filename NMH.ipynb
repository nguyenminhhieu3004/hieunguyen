{
  "nbformat": 4,
  "nbformat_minor": 0,
  "metadata": {
    "colab": {
      "name": "NMH.ipynb",
      "provenance": [],
      "authorship_tag": "ABX9TyN3ZiRxFLQ42jCKQ+IrPNm9",
      "include_colab_link": true
    },
    "kernelspec": {
      "name": "python3",
      "display_name": "Python 3"
    },
    "language_info": {
      "name": "python"
    }
  },
  "cells": [
    {
      "cell_type": "markdown",
      "metadata": {
        "id": "view-in-github",
        "colab_type": "text"
      },
      "source": [
        "<a href=\"https://colab.research.google.com/github/nguyenminhhieu3004/hieunguyen/blob/main/NMH.ipynb\" target=\"_parent\"><img src=\"https://colab.research.google.com/assets/colab-badge.svg\" alt=\"Open In Colab\"/></a>"
      ]
    },
    {
      "cell_type": "code",
      "metadata": {
        "id": "HotGqDNI49vS"
      },
      "source": [
        "từ  thống kê nhập scipy  \n",
        "nhập  numpy  dưới dạng  np\n",
        "\n",
        "# tinh kiem dinh 2 duoi_1 mau\n",
        "# enter to list in the order sample: middle sample, normal lệch, size size\n",
        "# enter to list play the expression: giả thuyết H0, alpha ý nghĩa\n",
        "# so_huong nhận 1 trong 3 giá trị: 'hai mặt', 'nhỏ hơn', 'lớn hơn'\n",
        "def  kiem_dinh_t ( mau , phat_bieu , so_huong ):\n",
        "    mẫu  =  np . ngẫu nhiên . bình thường ( mau [ 0 ], mau [ 1 ], mau [ 2 ])\n",
        "    null_mean  =  phat_bieu [ 0 ]\n",
        "    alpha  =  phat_bieu [ 1 ]\n",
        "    ts , pvalue  =  số liệu thống kê . ttest_1samp ( mẫu , null_mean , thay thế = so_huong )\n",
        "    if ( pvalue  <  alpha ):\n",
        "        print ( \"Có bằng chứng để bác bỏ giả thuyết H0\" )\n",
        "    khác :\n",
        "        print ( \"Chưa có bằng chứng để bác bỏ giả thuyết H0\" )\n",
        "\n",
        "\n",
        "# tinh kiem dinh 2 duoi_1 mau\n",
        "# enter to list in the order sample: middle sample, normal lệch, size size\n",
        "# nhập alpha\n",
        "# so_huong nhận 1 trong 3 giá trị: 'hai mặt', 'nhỏ hơn', 'lớn hơn'\n",
        "def  kiem_dinh_t_2_mau ( mau1 , mau2 , alpha , so_huong ):\n",
        "    mẫu1  =  np . ngẫu nhiên . bình thường ( mau1 [ 0 ], mau1 [ 1 ], mau1 [ 2 ])\n",
        "    mẫu2  =  np . ngẫu nhiên . bình thường ( mau2 [ 0 ], mau2 [ 1 ], mau2 [ 2 ])\n",
        "    ts , pvalue  =  số liệu thống kê . ttest_ind ( sample1 , sample2 , alternative = so_huong )\n",
        "    if ( pvalue  <  alpha ):\n",
        "        print ( \"Có bằng chứng để bác bỏ giả thuyết H0\" )\n",
        "    khác :\n",
        "        print ( \"Chưa có bằng chứng để bác bỏ giả thuyết H0\" )"
      ],
      "execution_count": null,
      "outputs": []
    }
  ]
}